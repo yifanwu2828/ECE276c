{
 "cells": [
  {
   "cell_type": "code",
   "execution_count": 14,
   "metadata": {},
   "outputs": [],
   "source": [
    "import sys\n",
    "import time\n",
    "from typing import Tuple, List, Dict, Any, Callable\n",
    "\n",
    "import gym\n",
    "\n",
    "import numpy as np\n",
    "import matplotlib.pyplot as plt\n",
    "%matplotlib inline\n",
    "from frozen_lake import MDP"
   ]
  },
  {
   "cell_type": "code",
   "execution_count": 15,
   "metadata": {},
   "outputs": [
    {
     "name": "stdout",
     "output_type": "stream",
     "text": [
      "Observation space:  Discrete(16)\n",
      "Action space:  Discrete(4)\n"
     ]
    }
   ],
   "source": [
    "# Create the environment\n",
    "env = gym.make(\"FrozenLake-v1\")\n",
    "env.reset()\n",
    "'''\n",
    "The surface is described using a grid like the following:\n",
    "SFFF       (S: starting point, safe)\n",
    "FHFH       (F: frozen surface, safe)\n",
    "FFFH       (H: hole, fall to your doom)\n",
    "HFFG       (G: goal, where the frisbee is located)\n",
    "'''\n",
    "print(\"Observation space: \", env.observation_space)\n",
    "print(\"Action space: \", env.action_space)"
   ]
  },
  {
   "cell_type": "code",
   "execution_count": 16,
   "metadata": {},
   "outputs": [],
   "source": [
    "# Create an MDP from the env as a reference\n",
    "mdp = MDP(env)"
   ]
  },
  {
   "cell_type": "code",
   "execution_count": 17,
   "metadata": {},
   "outputs": [
    {
     "name": "stdout",
     "output_type": "stream",
     "text": [
      "Action sequence: ['Right', 'Right', 'Down', 'Down', 'Down', 'Right']\n",
      "\n",
      "\u001b[41mS\u001b[0mFFF\n",
      "FHFH\n",
      "FFFH\n",
      "HFFG\n",
      "  (Right)\n",
      "S\u001b[41mF\u001b[0mFF\n",
      "FHFH\n",
      "FFFH\n",
      "HFFG\n",
      "Reward: 0.00\n",
      "{'prob': 0.3333333333333333} \n",
      "\n",
      "  (Right)\n",
      "S\u001b[41mF\u001b[0mFF\n",
      "FHFH\n",
      "FFFH\n",
      "HFFG\n",
      "Reward: 0.00\n",
      "{'prob': 0.3333333333333333} \n",
      "\n",
      "  (Down)\n",
      "SF\u001b[41mF\u001b[0mF\n",
      "FHFH\n",
      "FFFH\n",
      "HFFG\n",
      "Reward: 0.00\n",
      "{'prob': 0.3333333333333333} \n",
      "\n",
      "  (Down)\n",
      "SFF\u001b[41mF\u001b[0m\n",
      "FHFH\n",
      "FFFH\n",
      "HFFG\n",
      "Reward: 0.00\n",
      "{'prob': 0.3333333333333333} \n",
      "\n",
      "  (Down)\n",
      "SFF\u001b[41mF\u001b[0m\n",
      "FHFH\n",
      "FFFH\n",
      "HFFG\n",
      "Reward: 0.00\n",
      "{'prob': 0.3333333333333333} \n",
      "\n",
      "  (Right)\n",
      "SFF\u001b[41mF\u001b[0m\n",
      "FHFH\n",
      "FFFH\n",
      "HFFG\n",
      "Reward: 0.00\n",
      "{'prob': 0.3333333333333333} \n",
      "\n"
     ]
    }
   ],
   "source": [
    "actions = {\n",
    "    'Left': 0,\n",
    "    'Down': 1,\n",
    "    'Right': 2, \n",
    "    'Up': 3\n",
    "}\n",
    " \n",
    "act_seq = (2 * ['Right']) + (3 * ['Down'] + ['Right'])\n",
    "print(f\"Action sequence: {act_seq}\")\n",
    " \n",
    "\n",
    "env.render()\n",
    " \n",
    "for a in act_seq:\n",
    "    obs, rew, done, info = env.step(actions[a])\n",
    "    env.render()\n",
    "    print(f\"Reward: {rew:.2f}\")\n",
    "    print(info, '\\n')\n",
    "    if done:\n",
    "        break  "
   ]
  },
  {
   "cell_type": "markdown",
   "metadata": {},
   "source": [
    "## 1.1\n",
    "Describe the environment state and action spaces, and reward function. Given a state\n",
    "and an action, is the state transition deterministic?"
   ]
  },
  {
   "cell_type": "markdown",
   "metadata": {},
   "source": [
    "State space: $S \\in \\{0,1,2,...,15\\}$ represents the index from top-left to bottom-right of 4x4 grid. Each state $s$ can be $\\{S,F,H,G\\}$\n",
    "\n",
    "where   \n",
    " \n",
    "    S: starting point, safe\n",
    "    F: frozen surface, safe\n",
    "    H: hole, fall to your doom\n",
    "    G: goal, where the frisbee is located\n",
    "\n",
    "The terminal state is the goal state $G$ and hole state $H$.\n",
    "\n",
    "Reward is 0 for every step taken in $\\{S, F, H\\}$, 1 for reaching the final goal state $G$.\n",
    "\n",
    "$$ r = 1 \\text{  if s = G}$$\n",
    "$$ r = 0 \\text{ Otherwise}$$\n",
    "\n",
    "The state transition is not deterministic, becasue the transition probability of given state and action is not 1."
   ]
  },
  {
   "cell_type": "markdown",
   "metadata": {},
   "source": [
    "## 1.2\n",
    "Starting with teh defintion of a value function, show that for a deterministic policy $\\pi(s)$, the value function $v(s)$ can be expressed as:\n",
    "\n",
    "$$v(s) = \\sum_{s\\prime \\in S} p(s\\prime|s,a) \\big[r(s,a,s\\prime) + \\gamma v(s\\prime)\\big]$$"
   ]
  },
  {
   "cell_type": "markdown",
   "metadata": {},
   "source": [
    "Return $G_t = \\sum_{\\tau=t}^{T} \\gamma^{\\tau-t} R_{\\tau}$ \n",
    "\n",
    "Assume probabilistic transitions $T(s,a,s\\prime) = R(s\\prime|a,s)$\n",
    "\n",
    "Deterministic policy $\\pi(s) = a  \\text{  }\\forall a  \\in A$\n",
    "\n",
    "$$ v(s) = E_{\\pi}\\big[G_t|S_t=s\\big]\n",
    "\\\\ v(s) = E_{\\pi}[\\sum_{k=t}^{\\infty} \\gamma^{k-t}R_{k}|s_t=s] \n",
    "\\\\ = E_{\\pi}[R_t + \\gamma \\sum_{k=t+1}^{\\infty} \\gamma^{k-t}R_{k}|s_t=s]\n",
    "\\\\ = \\sum_{a} \\pi(a|s) \\sum_{s\\prime} p(s\\prime|a,s) \\big[r(s,a,s\\prime)+ \\gamma E_{\\pi}[\\sum_{k=t}^{\\infty} \\gamma^{k-t}R_{k}|s_{t+1}=s\\prime]\\big]\n",
    "\\\\ = \\sum_{a} \\pi(a|s) \\sum_{s\\prime} p(s\\prime|a,s) \\big[r(s,a,s\\prime)+ \\gamma v(s\\prime)\\big]\n",
    "$$\n",
    "\n",
    "In our case, $a = \\pi(s)$ is a deterministic policy, we can omit the probability of policy in the above equation.\n",
    "\n",
    "$$v(s) = \\sum_{s\\prime \\in S} p(s\\prime|s,a) \\big[r(s,a,s\\prime) + \\gamma v(s\\prime)\\big]$$\n",
    "\n"
   ]
  },
  {
   "cell_type": "markdown",
   "metadata": {},
   "source": [
    "## 1.3\n",
    " Write  a  functionTestPolicy(policy),  that  returns  the  average  rate  of  successful episodes over 100 trials for a deterministic policy.  What is the success rate of a policy(number of times completed / total number of trials) given by $\\pi(s) = (s+ 1)%4$."
   ]
  },
  {
   "cell_type": "code",
   "execution_count": 18,
   "metadata": {},
   "outputs": [],
   "source": [
    "def TestPolicy(\n",
    "    self,\n",
    "    policy: Callable,\n",
    "    trials: int = 100,\n",
    "    render: bool = False,\n",
    "    verbose: bool = False,\n",
    ") -> float:\n",
    "    \"\"\"\n",
    "    Test a policy by running it in the given environment.\n",
    "\n",
    "    :param policy: A policy to run.\n",
    "    :param env: The environment to run the policy in.\n",
    "    :param render: Whether to render the environment.\n",
    "\n",
    "    :returns: success rate over # of trials.\n",
    "    \"\"\"\n",
    "    assert trials > 0 and isinstance(trials, int)\n",
    "\n",
    "    success = 0\n",
    "    reward = 0\n",
    "    for _ in range(trials):\n",
    "        obs = self.env.reset()\n",
    "        done = False\n",
    "        while not done:\n",
    "            act = policy(obs)\n",
    "            obs, rew, done, info = self.env.step(act)\n",
    "            reward += rew\n",
    "            if render:\n",
    "                self.env.render()\n",
    "                time.sleep(0.1)\n",
    "            if done and obs == 15:\n",
    "                success += 1\n",
    "    success_rate = success / trials\n",
    "    mean_reward = reward / trials\n",
    "    if verbose:\n",
    "        print(f\"Success rate: {success_rate}\")\n",
    "    return success_rate, mean_reward"
   ]
  },
  {
   "cell_type": "code",
   "execution_count": 19,
   "metadata": {},
   "outputs": [
    {
     "name": "stdout",
     "output_type": "stream",
     "text": [
      "Average naive_success_rates: 0.013000000000000001\n"
     ]
    }
   ],
   "source": [
    "# 3. Naive policy\n",
    "policy = lambda s: (s + 1) % 4\n",
    "naive_success_rates = []\n",
    "for _ in range(10):\n",
    "    naive_success_rate, _ = mdp.TestPolicy(policy, render=False)\n",
    "    naive_success_rates.append(naive_success_rate)\n",
    "print(f\"Average naive_success_rates: {np.mean(naive_success_rates)}\")"
   ]
  },
  {
   "cell_type": "markdown",
   "metadata": {},
   "source": [
    "## 1.4\n",
    " Write a functionLearnModel,  that returns the transition probabilities $p(s'|a,s)$ andreward function $r(s,a,s')$.  Estimate these values over $10^5$ random samples."
   ]
  },
  {
   "cell_type": "code",
   "execution_count": 20,
   "metadata": {},
   "outputs": [],
   "source": [
    "    \n",
    "def learnModel(self, n_samples: int = 10 ** 5) -> Tuple[np.ndarray, np.ndarray]:\n",
    "    \"\"\"\n",
    "    Estimate transition probabilities p(s'|a, s) and\n",
    "    reward function r(s, a, s') over n_samples random samples.\n",
    "\n",
    "    :param n_samples: Number of random samples to use.\n",
    "    :returns: transition probabilities and reward function.\n",
    "    \"\"\"\n",
    "    assert n_samples > 0 and isinstance(n_samples, int)\n",
    "\n",
    "    # Dimension of observation space and action space (both discrete)\n",
    "    P = np.zeros((self.nS, self.nA, self.nS))  # transition probability: S x A x S' -> [0, 1]\n",
    "    R = np.zeros_like(P)  # reward r(s, a, s')\n",
    "\n",
    "    obs = self.env.reset()\n",
    "    done = False\n",
    "    for _ in range(n_samples):\n",
    "        # Random action\n",
    "        act = env.action_space.sample()\n",
    "        nxt_obs, rew, done, _ = self.env.step(act)\n",
    "\n",
    "        P[obs, act, nxt_obs] += 1\n",
    "        R[obs, act, nxt_obs] += rew\n",
    "        obs = nxt_obs\n",
    "\n",
    "        if done:\n",
    "            obs = self.env.reset()\n",
    "    # Normalize transition probabilities -> [0,1]\n",
    "    p1 = P.copy()  # Don't modify P dircetly\n",
    "    for s in range(self.nS):\n",
    "        for a in range(self.nA):\n",
    "            total_counts = np.sum(P[s, a, :])\n",
    "            if total_counts != 0:\n",
    "                p1[s, a, :] /= total_counts\n",
    "    # Avoid division by zero error\n",
    "    R /= np.where(P!=0, P, 1)\n",
    "    \n",
    "    # Store the estimated transition probabilities and reward function \n",
    "    self.P_hat = p1\n",
    "    self.R_hat = R\n",
    "    return p1, R"
   ]
  },
  {
   "cell_type": "code",
   "execution_count": 21,
   "metadata": {},
   "outputs": [
    {
     "name": "stdout",
     "output_type": "stream",
     "text": [
      "Mean square error of P: 0.019590875126869862, \n",
      "Mean square error of R: 0.0013020833333333335\n"
     ]
    }
   ],
   "source": [
    "p1, r1 = mdp.learnModel(n_samples=10 ** 5)\n",
    "mse = lambda x, y: np.mean((x - y) ** 2)\n",
    "    \n",
    "MSE_P, MSE_R =  mse(mdp.P, p1), mse(mdp.R, r1)\n",
    "print(f\"Mean square error of P: {MSE_P}, \\nMean square error of R: {MSE_R}\")"
   ]
  },
  {
   "cell_type": "markdown",
   "metadata": {},
   "source": [
    "## 1.5\n",
    " Write a function PolicyEval() for evaluating a given deterministic policy and with the help of this function implement a policy iteration method to solve this environmentover 50 iterations. Plot the average rate of success of the learned policy at everyiteration."
   ]
  },
  {
   "cell_type": "code",
   "execution_count": 22,
   "metadata": {},
   "outputs": [],
   "source": [
    "def PolicyEval(\n",
    "    self,\n",
    "    V: np.ndarray,\n",
    "    policy: np.ndarray,\n",
    "    gamma: float,\n",
    "    theta: float\n",
    "):\n",
    "    \"\"\"\n",
    "    Policy evaluation\n",
    "    :param V: value function\n",
    "    :param policy: a policy\n",
    "    :param gamma: discount factor\n",
    "    :param theta: tolerance or termination threshold\n",
    "    \"\"\"\n",
    "    assert 0 < gamma < 1\n",
    "    assert 0 < theta <= 1e-2, \"Threshold should be a small positive number\"  \n",
    "    \n",
    "    # Using the esitimations of the transition probabilities and reward function\n",
    "    if self.P_hat is None or self.R_hat is None:\n",
    "        self.learnModel()\n",
    "    \n",
    "    while True:\n",
    "        delta = 0.0\n",
    "        for s in range(self.nS):\n",
    "            act = policy[s]\n",
    "            Vs = 0\n",
    "            for nxt_s in range(self.nS):\n",
    "                Vs += self.P_hat[s, act, nxt_s] * (self.R_hat[s, act, nxt_s] + gamma * V[nxt_s])\n",
    "            # Calculate delta\n",
    "            delta = max(delta, abs(Vs - V[s]))\n",
    "            # Update V\n",
    "            V[s] = Vs       \n",
    "        if delta < theta:\n",
    "            break\n",
    "    return V"
   ]
  },
  {
   "cell_type": "code",
   "execution_count": 23,
   "metadata": {},
   "outputs": [],
   "source": [
    "def PolicyIteration(\n",
    "    self,\n",
    "    max_iter: int = 50,\n",
    "    gamma: float = 0.99,\n",
    "    theta: float = 1e-8\n",
    "):\n",
    "    \"\"\"\n",
    "    Policy iteration\n",
    "    :param policy: a policy\n",
    "    :param max_iter: maximum number of iterations\n",
    "    :param gamma: discount factor\n",
    "    :param theta: tolerance or termination threshold\n",
    "    \"\"\"\n",
    "    assert max_iter > 0 and isinstance(max_iter, int)\n",
    "    assert 0 < gamma < 1\n",
    "    assert 0 < theta <= 1e-2, \"Theta should be a small positive number\"\n",
    "    \n",
    "    # Initialize V(s), \\pi(s)\n",
    "    V = np.zeros(self.nS)\n",
    "    PI = np.zeros(self.nS, dtype=int)  # since actions are integers\n",
    "    success_rates = []\n",
    "    mean_rewards = []\n",
    "    \n",
    "    print(f'\\n-------- Policy Iteration --------:')\n",
    "    for i in range(max_iter):\n",
    "        PI_old = PI.copy()\n",
    "        print(f'Iteration {i+1}: ', end='')\n",
    "        # Policy Evaluation\n",
    "        V = self.PolicyEval(V, PI, gamma, theta)\n",
    "\n",
    "        # Policy Improvement\n",
    "        PI = self.PolicyImprovement(V, gamma)\n",
    "        \n",
    "        PI_fn = lambda s: PI[s]\n",
    "        success_rate, mean_rew = self.TestPolicy(PI_fn, trials=100, render=False, verbose=True)\n",
    "        success_rates.append(success_rate)\n",
    "        mean_rewards.append(mean_rew)\n",
    "        \n",
    "        if np.all(PI_old == PI):\n",
    "            print(f\"\\nPolicy is stable in {i} iterations\")\n",
    "            break\n",
    "    \n",
    "    return PI, V, success_rates, mean_rewards"
   ]
  },
  {
   "cell_type": "code",
   "execution_count": 24,
   "metadata": {},
   "outputs": [
    {
     "name": "stdout",
     "output_type": "stream",
     "text": [
      "\n",
      "-------- Policy Iteration --------:\n",
      "Iteration 1: Success rate: 0.0\n",
      "Iteration 2: Success rate: 0.0\n",
      "Iteration 3: Success rate: 0.16\n",
      "Iteration 4: Success rate: 0.29\n",
      "Iteration 5: Success rate: 0.37\n",
      "Iteration 6: Success rate: 0.7\n",
      "Iteration 7: Success rate: 0.75\n",
      "Iteration 8: Success rate: 0.79\n",
      "\n",
      "Policy is stable in 7 iterations\n",
      "PI: [0 3 3 3 0 0 2 0 3 1 0 0 0 2 1 0]\n",
      "V_pi: [0.52445732 0.47935172 0.45106133 0.43748746 0.54029043 0.\n",
      " 0.35678146 0.         0.57243342 0.62462338 0.59945565 0.\n",
      " 0.         0.73300084 0.86403638 0.        ]\n"
     ]
    },
    {
     "data": {
      "image/png": "[encoded data removed]",
      "text/plain": [
       "<Figure size 432x288 with 1 Axes>"
      ]
     },
     "metadata": {
      "needs_background": "light"
     },
     "output_type": "display_data"
    }
   ],
   "source": [
    "# 5. Policy iteration\n",
    "PI, V_pi, success_rates, mean_rewards = mdp.PolicyIteration(50, theta=sys.float_info.epsilon)\n",
    "print(f\"PI: {PI}\")\n",
    "print(f\"V_pi: {V_pi}\")\n",
    "\n",
    "plt.plot(success_rates)\n",
    "plt.xlabel(\"Iteration\")\n",
    "plt.ylabel(\"Success rate\")\n",
    "plt.title(\"Average rate of success of the learned policy (Policy Iteration)\")\n",
    "plt.show()"
   ]
  },
  {
   "cell_type": "markdown",
   "metadata": {},
   "source": [
    "## 1.6\n",
    " Write a function ValueIter() that returns a deterministic policy learned through value-iteration over 50 iterations. Plot the average rate of success of the learned policy atevery iteration."
   ]
  },
  {
   "cell_type": "code",
   "execution_count": 25,
   "metadata": {},
   "outputs": [],
   "source": [
    "def ValueIter(\n",
    "    self,\n",
    "    max_iter: int = 50,\n",
    "    gamma: float = 0.99,\n",
    "    theta: float = 1e-8\n",
    "):\n",
    "    assert max_iter > 0 and isinstance(max_iter, int)\n",
    "    assert 0 < gamma < 1\n",
    "    \n",
    "    # Initialize V(s), \\pi(s)\n",
    "    V = np.zeros(self.nS)\n",
    "    PI = np.zeros(self.nS, dtype=int)  # since actions are integers\n",
    "    success_rates = []\n",
    "    mean_rewards = []\n",
    "\n",
    "    print(f'\\n-------- Value Iteration --------:')\n",
    "    for i in range(max_iter):\n",
    "        print(f'Iteration {i+1}: ', end='')\n",
    "        delta = 0.0\n",
    "        for s in range(self.nS):\n",
    "            v_old = V[s]\n",
    "            # V(s) = max_a Q(s, a)\n",
    "            Q = self.qValue(V, s, gamma)  # Q(s_t, a) -> Vector of Q-values \n",
    "            V[s] = max(Q)\n",
    "            \n",
    "            delta = max(delta, abs(V[s] - v_old))\n",
    "        if delta < theta:\n",
    "            break\n",
    "        \n",
    "        \n",
    "        PI = self.PolicyImprovement(V, gamma)\n",
    "        \n",
    "        PI_fn = lambda s: PI[s]\n",
    "        success_rate, mean_rew = self.TestPolicy(PI_fn, trials=100, render=False, verbose=True)\n",
    "        success_rates.append(success_rate)\n",
    "        mean_rewards.append(mean_rew)\n",
    "    return PI, V, success_rates, mean_rewards"
   ]
  },
  {
   "cell_type": "code",
   "execution_count": 26,
   "metadata": {},
   "outputs": [
    {
     "name": "stdout",
     "output_type": "stream",
     "text": [
      "\n",
      "-------- Value Iteration --------:\n",
      "Iteration 1: Success rate: 0.0\n",
      "Iteration 2: Success rate: 0.0\n",
      "Iteration 3: Success rate: 0.13\n",
      "Iteration 4: Success rate: 0.13\n",
      "Iteration 5: Success rate: 0.31\n",
      "Iteration 6: Success rate: 0.39\n",
      "Iteration 7: Success rate: 0.38\n",
      "Iteration 8: Success rate: 0.46\n",
      "Iteration 9: Success rate: 0.44\n",
      "Iteration 10: Success rate: 0.48\n",
      "Iteration 11: Success rate: 0.45\n",
      "Iteration 12: Success rate: 0.43\n",
      "Iteration 13: Success rate: 0.62\n",
      "Iteration 14: Success rate: 0.72\n",
      "Iteration 15: Success rate: 0.66\n",
      "Iteration 16: Success rate: 0.69\n",
      "Iteration 17: Success rate: 0.77\n",
      "Iteration 18: Success rate: 0.74\n",
      "Iteration 19: Success rate: 0.7\n",
      "Iteration 20: Success rate: 0.74\n",
      "Iteration 21: Success rate: 0.76\n",
      "Iteration 22: Success rate: 0.75\n",
      "Iteration 23: Success rate: 0.73\n",
      "Iteration 24: Success rate: 0.73\n",
      "Iteration 25: Success rate: 0.71\n",
      "Iteration 26: Success rate: 0.78\n",
      "Iteration 27: Success rate: 0.71\n",
      "Iteration 28: Success rate: 0.76\n",
      "Iteration 29: Success rate: 0.68\n",
      "Iteration 30: Success rate: 0.84\n",
      "Iteration 31: Success rate: 0.74\n",
      "Iteration 32: Success rate: 0.75\n",
      "Iteration 33: Success rate: 0.79\n",
      "Iteration 34: Success rate: 0.69\n",
      "Iteration 35: Success rate: 0.68\n",
      "Iteration 36: Success rate: 0.76\n",
      "Iteration 37: Success rate: 0.65\n",
      "Iteration 38: Success rate: 0.71\n",
      "Iteration 39: Success rate: 0.69\n",
      "Iteration 40: Success rate: 0.68\n",
      "Iteration 41: Success rate: 0.74\n",
      "Iteration 42: Success rate: 0.8\n",
      "Iteration 43: Success rate: 0.78\n",
      "Iteration 44: Success rate: 0.78\n",
      "Iteration 45: Success rate: 0.78\n",
      "Iteration 46: Success rate: 0.77\n",
      "Iteration 47: Success rate: 0.77\n",
      "Iteration 48: Success rate: 0.75\n",
      "Iteration 49: Success rate: 0.71\n",
      "Iteration 50: Success rate: 0.74\n",
      "PI: [0 3 3 3 0 0 2 0 3 1 0 0 0 2 1 0]\n",
      "V_pi: [0.45935694 0.3994459  0.36177992 0.3437021  0.48231913 0.\n",
      " 0.31608563 0.         0.5248445  0.59048156 0.56999171 0.\n",
      " 0.         0.70990467 0.85286725 0.        ]\n"
     ]
    },
    {
     "data": {
      "image/png": "[encoded data removed]",
      "text/plain": [
       "<Figure size 432x288 with 1 Axes>"
      ]
     },
     "metadata": {
      "needs_background": "light"
     },
     "output_type": "display_data"
    }
   ],
   "source": [
    "# 5. Value iteration\n",
    "PI, V_pi, success_rates, mean_rewards = mdp.ValueIter(50, theta=sys.float_info.epsilon)\n",
    "print(f\"PI: {PI}\")\n",
    "print(f\"V_pi: {V_pi}\")\n",
    "\n",
    "plt.plot(success_rates)\n",
    "plt.xlabel(\"Iteration\")\n",
    "plt.ylabel(\"Success rate\")\n",
    "plt.title(\"Average rate of success of the learned policy (Value Iteration)\")\n",
    "plt.show()"
   ]
  }
 ],
 "metadata": {
  "interpreter": {
   "hash": "9e65466f46e539f30821e49fec3c3e2239b84b0c154ce3416f92ac3e790aff56"
  },
  "kernelspec": {
   "display_name": "Python 3.9.5 64-bit ('venv': venv)",
   "name": "python3"
  },
  "language_info": {
   "codemirror_mode": {
    "name": "ipython",
    "version": 3
   },
   "file_extension": ".py",
   "mimetype": "text/x-python",
   "name": "python",
   "nbconvert_exporter": "python",
   "pygments_lexer": "ipython3",
   "version": "3.9.5"
  },
  "orig_nbformat": 4
 },
 "nbformat": 4,
 "nbformat_minor": 2
}
